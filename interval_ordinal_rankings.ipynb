{
 "cells": [
  {
   "cell_type": "markdown",
   "metadata": {},
   "source": [
    "# Rank aggregation with imprecise ordinal data\n",
    "----------------------------------------\n",
    "Marisa Martínez - July 2020\n",
    "\n",
    "\n",
    "The rank aggregation problem, also known as group-ranking, arises in many fields such as metaserach engines, information retrieval, recommendation systems and decision-making. The main idea behing is to combine (aggregate) several ranked lists into one \"super\" list ([Cynthia Dwork, et al. (2001)](http://citeseerx.ist.psu.edu/viewdoc/download?doi=10.1.1.387.4021&rep=rep1&type=pdf))."
   ]
  },
  {
   "cell_type": "markdown",
   "metadata": {},
   "source": [
    "The rank aggregation problem is defined by:\n",
    "* $ X=\\{x_1,\\dots,x_n\\}$, $n\\geq 2$, a finite set of __alternatives__.  \n",
    "* $ E_1, E_2, \\dots, E_m $, $m\\geq 2$, a group of __experts__.\n",
    "* $ R^1, R^2, \\dots, R^m$, ordered lists or __rankings__ with respect to $X$ given by the experts.\n",
    "* __Expert weights__ $\\{w_1,\\dots,w_n\\}$, $w_k > 0$ and $\\sum_{k=1}^{m}w_k = 1$.\n",
    "\n",
    "> __Note__: A ranking over the set of alternatives $X=\\{x_1,\\dots,x_n\\}$ is an ordered list\n",
    "$ R=\\{x_{i_1} \\succeq x_{i_2} \\succeq \\dots x_{i_n}\\}, x_{i_k} \\in X  $\twhere $\\succeq$ represents some ordering relation on $X$. Is represented by the ranking vector $R = (r_i)$, $i = 1,\\ldots, n$, where $r_i \\in\\mathbb{Z}^+$, with respect to $X$, is the ordinal rank position of element $x_i$  in the list.  Let $\\mathbb{Z}^+$ be the set of positive integers and a set of alternatives.\n",
    "\n",
    "A ranking is a relationship between a set of items such that, for any two items, the first is either 'ranked higher than', 'ranked lower than' or 'ranked equal to' the second. In mathematics, this is known as a weak order or total preorder of objects; refers to an ordered set of items. When a list of items is ranked by its numerical score, that list is called a rating. When a rating list is sorted, creates a ranking list (a sequence of ordinal numbers). Therefore, an every rating list creates a ranking list, but no vice-versa.\n",
    "\n",
    "In real-world applications, preference information is often limited, vague and uncertain ([Zhi-Ping Fan and Yang Liu, (2010)](http://www.paper.edu.cn/scholar/showpdf/NUz2QNwIMTA0eQxeQh), [Jian Wua and Francisco Chiclana, 2014](http://www.cse.dmu.ac.uk/~chiclana/publications/A-KNOSYS(2014-03)). Considering that __interval ordinal numbers__ are a useful tool to represent ordinal uncertain and incomplete information, in [Esther Dopazo and Martínez-Céspedes, (2017)](https://www.sciencedirect.com/science/article/abs/pii/S0957417417300659) we have proposed a general model and computational methods to output an aggregate ranking based on uncertain preference information given by a group of individual experts relaxing the assumption of certainty in rankings. Moreover, the proposed approach can handle partial lists and rankings that contain ties.\n",
    "\n",
    "Some of the studies in the literature deal with incomplete information. However, there are not many studies that consider interval ordinal data ([Jacinto González-Pachón and Carlos Romero, (2001)](https://d1wqtxts1xzle7.cloudfront.net/46557250/Aggregation_of_partial_ordinal_rankings_20160616-13539-1iucg6k.pdf?1466136140=&response-content-disposition=inline%3B+filename%3DAggregation_of_partial_ordinal_rankings.pdf&Expires=1596459625&Signature=E0qs9OFpqApQOR4hCBL460kuHtpbXd0r0DeIIWjh5u5SwXuuxQNPNQfhELqGgVPfqm4YydPQvGjFSvddUZPp2VKS2HKlWYJB7ZTdjj6RrYTGRMfCO49Hxf1YvsXHZEBkQA6DW9O0q7dx40F096qVMfvtz07BlK8yHNlossKzB2yoxs4aqO7hORnvqatUQ5UsWf-~Fz6fETAnNdpE3FK62vUjgKGGqVNRICgG1YAFNcO-FI~3lJU-JY8ZIeWGWhzhj1a9SrVrFOsfRMiraADn1zAZGMGb7yUlIB-k7s9hwOoYvjc~MiUHfSKpvpPSnGhh9uXrR-oN2TnXY1vk4qeTEw__&Key-Pair-Id=APKAJLOHF5GGSLRBV4ZA), [Zhi-Ping Fan and Yang Liu, (2010)](http://www.paper.edu.cn/scholar/showpdf/NUz2QNwIMTA0eQxeQh), [Zhi-Ping Fan, et al., 2010](https://d1wqtxts1xzle7.cloudfront.net/48852469/j.cie.2009.08.00120160915-3775-7a6yk.pdf?1473934130=&response-content-disposition=inline%3B+filename%3DAn_approach_to_group_decision-making_wit.pdf&Expires=1596454408&Signature=N~ZNY6NBayY2fZFaPBxzq56tIEPg4O1Nf7e8qTkiaNV6LpCuV02VuuW-PmxL6FjsZLRXwtwf4BWCb-Bv-uueJXjs14x3M2hIVal3wNMAH4R8Z2sjZVNtSYsDZpuEvtOLlxBK8x7L-PgecS-crzoed1ZkC0Ex5IFgGnrI8E0-BOoXvU2E~~kUnSUsZTo7phEarSKewSLZ5r5n8spRNg6FohWFTGVJz20aCE0kjDH8ubUzPo-WXT-5qK-jZH75UOnc6AR85av1u-Yskm9F5Gnp90-jM3MIUrEQDJmhymBs73LDEmaqsq3M5XWm~Q~oJBqJFuiWmOQdjEShv8SP1RPr7w__&Key-Pair-Id=APKAJLOHF5GGSLRBV4ZA), [Jian Wua and Francisco Chiclana, 2014](http://www.cse.dmu.ac.uk/~chiclana/publications/A-KNOSYS(2014-03))\n",
    "\n",
    "> __Note__: Suppose  expert $k$ provides his preferences on the alternatives in the form of interval ordinal  ranking $R^k=(\\bar{r}_{ki})=([r_{ki}^L, r_{ki}^U])$, meaning  alternative $x_i$ is equally likely to be ranked in any of the positions  $r_{ki}^L, r_{ki}^{L}+1 ,\\dots , r_{ki}^{U}-1, r_{ki}^U$, where $i = 1, \\dots,n,$ for $k = 1, \\dots,m$. \n",
    "\n",
    "### Interval ordinal number\n",
    "An __interval ordinal number__ ([Zhi-Ping Fan and Yang Liu, (2010)](http://www.paper.edu.cn/scholar/showpdf/NUz2QNwIMTA0eQxeQh), [Zhi-Ping Fan, et al., 2010](https://d1wqtxts1xzle7.cloudfront.net/48852469/j.cie.2009.08.00120160915-3775-7a6yk.pdf?1473934130=&response-content-disposition=inline%3B+filename%3DAn_approach_to_group_decision-making_wit.pdf&Expires=1596454408&Signature=N~ZNY6NBayY2fZFaPBxzq56tIEPg4O1Nf7e8qTkiaNV6LpCuV02VuuW-PmxL6FjsZLRXwtwf4BWCb-Bv-uueJXjs14x3M2hIVal3wNMAH4R8Z2sjZVNtSYsDZpuEvtOLlxBK8x7L-PgecS-crzoed1ZkC0Ex5IFgGnrI8E0-BOoXvU2E~~kUnSUsZTo7phEarSKewSLZ5r5n8spRNg6FohWFTGVJz20aCE0kjDH8ubUzPo-WXT-5qK-jZH75UOnc6AR85av1u-Yskm9F5Gnp90-jM3MIUrEQDJmhymBs73LDEmaqsq3M5XWm~Q~oJBqJFuiWmOQdjEShv8SP1RPr7w__&Key-Pair-Id=APKAJLOHF5GGSLRBV4ZA)) denoted by $ \\bar{r}=[r^L, r^U] $, where $ r^L, r^U \\in Z^{+}$, and $r^L \\leq r^U $, is given by the discrete set of ordinal numbers $r \\in \\mathbb{Z}^+$ such that $ r^L \\leq r \\leq r^U $. $ r^L $ and $ r^U $ are the lower and upper bounds of the interval ordinal number $ \\bar{r} $, respectively. Particularly, if $ r^L = r^U $, then the interval ordinal number $ \\bar{r} $ is reduced to an ordinal number.\n",
    "\n",
    "Therefore, if $R=(\\bar{r}_{i})=([r_{i}^L, r_{i}^U])$ is an __interval ordinal ranking__, $ \\bar{r}_{i} $ means that an alternative $x_i$ is equally likely to be ranked in any of the ordinal positions  $r_{i}^L, r_{i}^{L}+1 ,\\dots , r_{i}^{U}-1, r_{i}^U$ for $i = 1, \\dots,n.$.  \n",
    "\n",
    "> __Note__: This mathematical representation allows us to approach the case of incomplete information (partial lists) assigning the ordinal number interval  by assessing  the interval ordinal number $[1,n]$  or $[k+1,n]$ for a top-k ranked list, where $n$ is the total number of alternatives, as unknown rank  data."
   ]
  },
  {
   "cell_type": "code",
   "execution_count": 2,
   "metadata": {},
   "outputs": [
    {
     "name": "stdout",
     "output_type": "stream",
     "text": [
      "The list of pairs in [1, 2] and [2, 3] is: [[1, 2], [1, 3], [2, 2], [2, 3]]\n"
     ]
    }
   ],
   "source": [
    "from numpy import*\n",
    "\n",
    "def NumList(r):\n",
    "    \"\"\"\n",
    "    List of ordinal numbers in an ordinal interval number.\n",
    "    Input: ordinal partial ranking r = [rL,rU]\n",
    "    Output: List of positions (ordinal numbers) between rL and rU\n",
    "    \"\"\"\n",
    "    l = range(r[0],r[1]+1)\n",
    "    return l\n",
    "\n",
    "def PairsList (r1, r2):\n",
    "    \"\"\"\n",
    "    Returns the list of pairs between two ordinal interval numbers\n",
    "    Input: 2 interval ordinal numbers\n",
    "    Output: List of pairs\n",
    "    \"\"\"\n",
    "    n = len(r1)\n",
    "    m = len(r2)\n",
    "    pairs = []\n",
    "    \n",
    "    for i in range(n):\n",
    "        for j in range(m):\n",
    "            p = [r1[i],r2[j]]\n",
    "            pairs.append(p)\n",
    "    return pairs\n",
    "\n",
    "# For example:\n",
    "a = [1,2]\n",
    "b = [2,3]\n",
    "print ('The list of pairs in ' + repr(a) + ' and ' + repr(b) + ' is: ' + repr(PairsList(NumList(a),NumList(b))))"
   ]
  },
  {
   "cell_type": "markdown",
   "metadata": {
    "scrolled": true
   },
   "source": [
    "`Easy right? Let's continue then!`\n",
    "\n",
    "### How to compare two interval ordinal numbers?\n",
    "Given two interval ordinal numbers $ \\bar{a}=[a^L,  a^U] $ and  $ \\bar{b}=[b^L,  b^U] $, we have considered the __possibility degree__ ([Zhi-Ping Fan and Yang Liu, (2010)](http://www.paper.edu.cn/scholar/showpdf/NUz2QNwIMTA0eQxeQh)) as a way of expressing the ordering relation up to which  $ \\bar{a} \\succeq \\bar{b}$ holds: \n",
    "\n",
    "\\begin{equation*} \n",
    "P(\\bar{a} \\succeq \\bar{b}) = (d+\\frac{1} {2}e)/t. \n",
    "\\end{equation*}\n",
    "where,\n",
    "* $t=\\left\\vert{Y}\\right\\vert$ is the cardinality of $Y$, where $Y=\\{(i,j)\\in[a^L,  a^U]\\times[b^L,  b^U]: i,j\\in \\mathbb{Z}^+\\}$ is the set of all  ordinal pairs in $[a^L,  a^U]\\times[b^L,  b^U]$.\n",
    "* $d=\\left\\vert{Y_{\\bar{a}\\succ\\bar{b}}}\\right\\vert$, where  $Y_{\\bar{a}\\succ\\bar{b}}=\\{(i,j)\\in Y: i>j\\}$. \n",
    "* $e=\\left\\vert{Y_{\\bar{a}=\\bar{b}}}\\right\\vert$, where $Y_{\\bar{a}=\\bar{b}}=\\{(i,i)\\in Y\\}$.\n",
    "\n",
    "And, the possibility degree of $ \\bar{b}=[b^L,  b^U] $ being greater than $ \\bar{a}=[a^L,  a^U] $ is given by $P(\\bar{b}\\succeq\\bar{a})=1-P(\\bar{a} \\succeq \\bar{b})$."
   ]
  },
  {
   "cell_type": "code",
   "execution_count": 3,
   "metadata": {},
   "outputs": [
    {
     "name": "stdout",
     "output_type": "stream",
     "text": [
      "The possibility degree [1, 2] and [2, 3] is: 0.875\n"
     ]
    }
   ],
   "source": [
    "def PossibilityDegree(r1,r2):\n",
    "    \"\"\"\n",
    "    Returns the Possibility Deegree between two interval ordinal numbers\n",
    "    \"\"\"\n",
    "    l = PairsList(NumList(r1),NumList(r2))\n",
    "    \n",
    "    # Total Cardinality:\n",
    "    t = len(l)\n",
    "\n",
    "    # Cardinality <\n",
    "    d = 0\n",
    "    for i in range(t):\n",
    "        if (l[i][0] < l[i][1]):\n",
    "            d = d+1\n",
    "            \n",
    "    # Cardinality =\n",
    "    e = 0\n",
    "    for i in range(t):\n",
    "        if (l[i][0] == l[i][1]):\n",
    "            e = e+1\n",
    "\n",
    "    # Possibility Degree\n",
    "    P = (d+e*0.5)/t\n",
    "\n",
    "    return P\n",
    "\n",
    "# For example:\n",
    "print ('The possibility degree ' + repr(a) + ' and ' + repr(b) + ' is: ' + repr(PossibilityDegree(a,b)))"
   ]
  },
  {
   "cell_type": "markdown",
   "metadata": {},
   "source": [
    "`Let's propose a rank aggregation method!`\n",
    "\n",
    "## Rank aggregation method\n",
    "\n",
    "Given a set of rankings attending different expert preferences which can be incomplete and imprecise, we propose a 2 stage model to produce a consensus ranking. The first stage gathers group preferences from uncertain and probably conflicting information to construct an outranking or matrix. In the second stage, a collective priority vector is derived. It provides rank ordering of the alernatives based on the group preferences.\n",
    "\n",
    "### Outranking matrix\n",
    "The preference matrix $ P=(p_{ij})_{n\\times n} $ makes use of the possibility degree defined few lines above. \n",
    "\n",
    "\\begin{equation*} \n",
    "p_{ij} =\\sum_{k=1}^{m}{w_k P( \\bar{r}_{kj} \\succeq \\bar{r}_{ki}) } \\qquad  i,j=1,\\dots,n,\n",
    "\\end{equation*}\n",
    "where $p_{ij}\\in[0,1]$ and $ p_{ij} + p_{ji} = 1 $ describes a fuzzy preference relation or reciprocal preference relation.\n",
    "\n",
    ">__Example__: Let's use the example proposed by [Zhi-Ping Fan and Yang Liu, (2010)](http://www.paper.edu.cn/scholar/showpdf/NUz2QNwIMTA0eQxeQh) to illustrate this approach. Experts' preference information:\n",
    "\n",
    "| Expert   |$x_1$  | $x_2$ |$x_3$  |$x_4$  |\n",
    "| -------- |:-----:|:-----:|:-----:|:-----:| \n",
    "| E1       | [2,3] |  [1,1]| [2,4] | [3,4] | \n",
    "| E2       | [3,4] |  [1,2]| [1,2] | [3,4] | \n",
    "| E3       | [4,4] |  [2,3]| [2,3] | [1,2] | \n",
    "| E4       | [1,1] |  [2,3]| [4,4] | [2,3] | \n",
    "| E5       | [2,3] |  [1,3]| [1,2] | [4,4] | "
   ]
  },
  {
   "cell_type": "code",
   "execution_count": 4,
   "metadata": {},
   "outputs": [
    {
     "name": "stdout",
     "output_type": "stream",
     "text": [
      "The Aggregation Matrix (example1) is: \n",
      " array([[0.5       , 0.26666667, 0.35833333, 0.675     ],\n",
      "       [0.73333333, 0.5       , 0.66666667, 0.725     ],\n",
      "       [0.64166667, 0.33333333, 0.5       , 0.55833333],\n",
      "       [0.325     , 0.275     , 0.44166667, 0.5       ]])\n"
     ]
    }
   ],
   "source": [
    "def AggregationMatrix (M, w):\n",
    "    \"\"\"\n",
    "    Preference Matrix aggregation based on the possibility degree for two interval ordinal numbers.\n",
    "    Input: Experts' preference information over a set of alternatives and the weight vector of the experts\n",
    "    Output: Preference Aggreation Matrix (pij + pji = 1, aij belongs to [0,1] and expresses the prerence degree of an alternative over another.\n",
    "    \"\"\"\n",
    "    m = len(M)\n",
    "    n = len(M[0])\n",
    "    P = zeros((n,n))\n",
    "\n",
    "    for k in range(m):\n",
    "        for i in range(n):\n",
    "            for j in range(n):\n",
    "                         P[i][j] = P[i][j] + w[k]*(1 - PossibilityDegree(M[k][j],M[k][i]))\n",
    "    return P\n",
    "\n",
    "# Experts preferences\n",
    "M = [[[2,3], [1,1], [2,4], [3,4]],\n",
    "      [[3,4], [1,2], [1,2], [3,4]],\n",
    "      [[4,4], [2,3], [2,3], [1,2]],\n",
    "      [[1,1], [2,3], [4,4], [2,3]],\n",
    "      [[2,3], [1,3], [1,2], [4,4]]]\n",
    "w = [0.2,0.2,0.2,0.2,0.2] # Expert weights\n",
    "P = AggregationMatrix (M, w)\n",
    "\n",
    "print ('The Aggregation Matrix (example1) is: \\n ' + repr(P))"
   ]
  },
  {
   "cell_type": "markdown",
   "metadata": {},
   "source": [
    "Let's apply the Perron eigenvector approach described in [Esther Dopazo and Martínez-Céspedes, (2017)](https://www.sciencedirect.com/science/article/abs/pii/S0957417417300659).\n",
    "\n",
    "### Perron eigenvector approach \n",
    "This approach follows the ideas of Keener's rating method ([James P. Keener, (1993)](https://www.jstor.org/stable/pdf/2132526.pdf?casa_token=_2eB7mguBAoAAAAA:uEUMk-jKLlYp3FZkqFkq1mfrMohXU8L0uj-eQvHQ_gREeOwc4A5sjHHIDY6fOZibE8qqO8QX3HZCIldQYwQWlv726KYvxawHF2D8E3dx29fiJi2R)) and the PageRank algorithm ([Sergey Brin and Lawrence Page, (1998)](https://storage.googleapis.com/pub-tools-public-publication-data/pdf/334.pdf)).\n",
    "\n",
    "Considering the preference matrix $P=(p_{ij})$ (outranking matrix) we scale the dominance of $x_i$ over $x_j$  (expressed by $p_{ij}$) to the total dominance of the alternatives over $x_j$ (${\\sum_{k=1}^{n}{p_{kj}}}$). \n",
    "\\begin{equation*}\n",
    "a_{ij} =\n",
    "\\frac{p_{ij}}{\\sum_{k=1}^{n}{p_{kj}}}, \\qquad i,j=1,\\dots,n.\n",
    "\\begin{equation*}\n"
   ]
  },
  {
   "cell_type": "code",
   "execution_count": 5,
   "metadata": {},
   "outputs": [
    {
     "name": "stdout",
     "output_type": "stream",
     "text": [
      "The Dominance Matrix (example1) is: \n",
      " array([[0.22727273, 0.19393939, 0.18220339, 0.27457627],\n",
      "       [0.33333333, 0.36363636, 0.33898305, 0.29491525],\n",
      "       [0.29166667, 0.24242424, 0.25423729, 0.22711864],\n",
      "       [0.14772727, 0.2       , 0.22457627, 0.20338983]])\n"
     ]
    }
   ],
   "source": [
    "def dominanceM(P): \n",
    "    \"\"\"\n",
    "    Dominance matrix. Input: Preference matrix (P).\n",
    "    \"\"\"\n",
    "    n = len(P)\n",
    "    A = zeros((n,n),float)\n",
    "    for i in range(0,n):\n",
    "        for j in  range(0,n):\n",
    "            A[i,j] = P[i][j]/sum(P[:,j])\n",
    "    return A\n",
    "\n",
    "# Example\n",
    "A = dominanceM(P)\n",
    "print('The Dominance Matrix (example1) is: \\n ' + repr(A))"
   ]
  },
  {
   "cell_type": "markdown",
   "metadata": {},
   "source": [
    "Must be noted that matrix $A$ is stochastic ($a_{ij} \\geq 0$ and $\\sum_{i=1}^{n}{a_{ij}} = 1$)."
   ]
  },
  {
   "cell_type": "code",
   "execution_count": 8,
   "metadata": {},
   "outputs": [
    {
     "data": {
      "text/plain": [
       "1.0"
      ]
     },
     "execution_count": 8,
     "metadata": {},
     "output_type": "execute_result"
    }
   ],
   "source": [
    "sum(A[:,2]) # for example, let's see third column"
   ]
  },
  {
   "cell_type": "markdown",
   "metadata": {},
   "source": [
    "Now, we look for a normalized  nonnegative rating vector  $r=(r_1, \\dots,r_n)^t$ $(\\left\\|r\\right\\|_1=\\sum_{i=1}^{n}{r_i}=1$), where $r_i$ indicates the importance  of $x_i$ based on relative paired comparisons expressed in matrix $A$ ([James P. Keener (1993)](https://pdfs.semanticscholar.org/de28/40f6617c4f71169db29d867de92793665eed.pdf)). So, the relative importance of alternative $i$ with respect to alternative $j$ is defined as $ w_{ij}=a_{ij}r_j $. Now, the rating or overall importance $r_i$ of $x_i$ is considered to be the sum of the  relative importances of alternative $x_i$ with respect to all other alternatives:\n",
    " $ r_i=\\sum_{j=1}^{n}{w_{ij}}=\\sum_{j=1}^{n}{a_{ij}r_j}, \\qquad i=1,\\dots,n. \n",
    "\\begin{equation*} \n",
    "r_i=\\sum_{j=1}^{n}{w_{ij}}=\\sum_{j=1}^{n}{a_{ij}r_j}, \\qquad \n",
    "i=1,\\dots,n.\n",
    "\\end{equation*}\n",
    "The above equations can be written in matrix form, $r=Ar$.\n",
    "\n",
    "This is equivalent to saying that $r$ is  a nonnegative eigenvector associated with the eigenvalue $1$ (Perron eigenvalue) of matrix $A$ (Keener, 1993), subject to the normalization condition $\\left\\|r\\right\\|_1=1$. The [power method](http://mlwiki.org/index.php/Power_Iteration#The_Power_Method) can be used to obtain an approximation of the rating vector $r$."
   ]
  },
  {
   "cell_type": "markdown",
   "metadata": {},
   "source": [
    "\n",
    "\n",
    "\n"
   ]
  },
  {
   "cell_type": "code",
   "execution_count": 9,
   "metadata": {},
   "outputs": [],
   "source": [
    "def fpowermethod (mat,vec):\n",
    "    \"\"\"\n",
    "    Power method\n",
    "    \"\"\"\n",
    "    evector = dot(mat,vec) # dot product of a square matrix and a vector \n",
    "    eigval = linalg.norm(evector,1) # vector norm 1\n",
    "    eigvec = evector/eigval\n",
    "    return eigval, eigvec"
   ]
  },
  {
   "cell_type": "code",
   "execution_count": 11,
   "metadata": {},
   "outputs": [
    {
     "name": "stdout",
     "output_type": "stream",
     "text": [
      "\n",
      " The rating vector is: \n",
      " array([0.21388076, 0.33747039, 0.25294905, 0.1956998 ])\n"
     ]
    }
   ],
   "source": [
    "def RA_Perron (S, maxiter, ztol):\n",
    "    \"\"\"\n",
    "    Rank aggregation approach: Perron eigenvector.\n",
    "    Input: Dominance matrix S, max iterations and tolerance.\n",
    "    Output: Rating vector r.\n",
    "    \"\"\"\n",
    "    n = len(S) # or shape(S)[0]\n",
    "    r0 = ones(n)/n # Initial vector sum(x0[:]) = 1\n",
    "\n",
    "    rs = [r0]\n",
    "    auxlamb = 0\n",
    "    \n",
    "    for n in range(maxiter):\n",
    "        lamb, r0 = fpowermethod(S,r0)\n",
    "        rs.append( r0 )\n",
    "        r = r0\n",
    "               \n",
    "        if (n>1):\n",
    "            if ((abs(lamb)/linalg.norm(auxlamb))<ztol):\n",
    "                break\n",
    "        auxlamb = lamb\n",
    "        \n",
    "    return lamb, r\n",
    "\n",
    "maxiter = 10 # iterations\n",
    "ztol = 1.0e-5 # tolerance\n",
    "\n",
    "lamb, r = RA_Perron (A, maxiter, ztol)\n",
    "print ('\\n The rating vector is: \\n ' + repr(r))"
   ]
  },
  {
   "cell_type": "markdown",
   "metadata": {},
   "source": [
    "The rating vector $r=(r_1,\\dots ,r_4)^t$ is the  normalized positive eigenvector of matrix $S$ associated with the dominant eigenvalue (that is $1$) which provides the following rank ordering of the proposed set of alternatives: $ x_2 \\succ x_3 \\succ x_1 \\succ x_4 $.\n",
    "\n",
    "That's all!, please cite  [Esther Dopazo and Martínez-Céspedes, (2017)](https://www.sciencedirect.com/science/article/abs/pii/S0957417417300659) if you have found it interesting. "
   ]
  }
 ],
 "metadata": {
  "kernelspec": {
   "display_name": "Python 3",
   "language": "python",
   "name": "python3"
  },
  "language_info": {
   "codemirror_mode": {
    "name": "ipython",
    "version": 3
   },
   "file_extension": ".py",
   "mimetype": "text/x-python",
   "name": "python",
   "nbconvert_exporter": "python",
   "pygments_lexer": "ipython3",
   "version": "3.7.4"
  }
 },
 "nbformat": 4,
 "nbformat_minor": 2
}
